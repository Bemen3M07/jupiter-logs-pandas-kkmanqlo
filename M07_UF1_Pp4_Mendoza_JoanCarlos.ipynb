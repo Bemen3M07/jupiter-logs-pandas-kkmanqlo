{
 "cells": [
  {
   "cell_type": "markdown",
   "id": "94ba6e6c-67d7-4227-8861-e2f6024c4b34",
   "metadata": {},
   "source": [
    "\n",
    "# **EJERCICIO 1**\n",
    "\n",
    "### 1- Con tus propias palabras, ¿podrías explicar que es?\n",
    "\n",
    "**a. Jupyter:** Jupyter es una herramienta que permite crear y compartir documentos interactivos que incluyen código, texto, gráficos y más. Es muy útil en programación, análisis de datos y ciencia de datos, ya que permite ejecutar fragmentos de código y ver los resultados de inmediato.\n",
    "\n",
    "**b. Anaconda:** Anaconda es una distribución de Python y R que incluye herramientas y paquetes preinstalados para trabajos de ciencia de datos, aprendizaje automático y computación científica. Ofrece el gestor de paquetes conda y herramientas como Jupyter y Spyder, lo que facilita la gestión de entornos y dependencias.\n",
    "\n",
    "**c. Paquete logging:** El paquete logging de Python se utiliza para generar registros (logs) de eventos en una aplicación. Es útil para monitorear el funcionamiento del código, detectar errores y registrar información relevante durante la ejecución del programa."
   ]
  },
  {
   "cell_type": "markdown",
   "id": "bc3c259a-4834-4370-a4cb-70cf684a5cda",
   "metadata": {},
   "source": [
    "# **EJERCICIO 2**\n",
    "\n",
    "### 2- ¿Por qué crees que es necesario implementar un log en un programa? Razona la respuesta y mete ejemplos del porqué lo crees (mínimo 3 ejemplos).\n",
    "\n",
    "Implementar un sistema de registro (log) en un programa es fundamental por varias razones, ya que permite supervisar, analizar y depurar el comportamiento de la aplicación. Aquí tienes la explicación y algunos ejemplos:\n",
    "\n",
    "## Razones para implementar un log:\n",
    "\n",
    "**1. Diagnóstico y depuración:**\n",
    "Los logs ayudan a identificar errores y problemas en tiempo de ejecución sin necesidad de interactuar directamente con el programa. Por ejemplo, si un sistema de reservas online falla al confirmar un pago, un log puede mostrar si el error ocurrió al conectarse con la pasarela de pagos o al escribir en la base de datos.\n",
    "\n",
    "**2. Seguimiento de actividades:**\n",
    "Permiten registrar qué acciones realiza el usuario o el sistema, lo que es útil para auditorías o para entender el flujo del programa. Por ejemplo, en una aplicación bancaria, un log puede registrar cuándo un usuario inicia sesión o realiza una transferencia.\n",
    "\n",
    "**3. Monitoreo en tiempo real:**\n",
    "En aplicaciones en producción, los logs permiten supervisar el funcionamiento general del sistema para detectar anomalías o comportamientos inusuales. Por ejemplo, en un servidor web, los logs pueden alertar de picos anormales de tráfico que indiquen un posible ataque DDoS."
   ]
  },
  {
   "cell_type": "markdown",
   "id": "3df7043d-d232-4f0c-9370-df72b2ad131a",
   "metadata": {},
   "source": [
    "# **EJERCICIO 3**\n",
    "\n",
    "### 3- Con tus palabras explica que significa cada línea de los siguientes ejemplos de logging. HAY QUE EXPLICAR LINEA EN LINEA\n",
    "\n",
    "## LOGGING 1"
   ]
  },
  {
   "cell_type": "code",
   "execution_count": null,
   "id": "62a9a6a6-f99d-42f9-9a7f-f638c5d4d97c",
   "metadata": {},
   "outputs": [],
   "source": [
    "logging.basicConfig(format='%(asctime)s - %(message)s', level=logging.INFO) \n",
    "logging.info('Admin ha accedido')"
   ]
  },
  {
   "cell_type": "markdown",
   "id": "4ff58e4e-8fdb-4a54-911f-b3f7ffec78f3",
   "metadata": {},
   "source": [
    "**1.** logging.basicConfig(...):\n",
    "Configura el formato y nivel de los mensajes de log.\n",
    "\n",
    "- format='%(asctime)s - %(message)s': Define cómo   se mostrarán los mensajes de log. En este caso, incluye la fecha y hora del evento (asctime) seguida del mensaje del log (message).\n",
    "\n",
    "- level=logging.INFO: Establece el nivel mínimo para registrar mensajes. Aquí, solo se registrarán mensajes de nivel INFO o superior (por ejemplo, WARNING o ERROR).\n",
    "\n",
    "**2.** logging.info('Admin ha accedido'):\n",
    "\n",
    "Registra un mensaje de nivel INFO. El mensaje será:\n",
    "\n",
    "[fecha y hora] - Admin ha accedido\n",
    "\n",
    "## LOGGING 2"
   ]
  },
  {
   "cell_type": "code",
   "execution_count": null,
   "id": "5ee7ea7e-5650-44d5-9469-f3149bbdb68a",
   "metadata": {},
   "outputs": [],
   "source": [
    "f_handler = logging.FileHandler('file.log')  "
   ]
  },
  {
   "cell_type": "markdown",
   "id": "cb25fd10-dcb6-4af8-92e8-c6317ffae2c4",
   "metadata": {},
   "source": [
    "**1.** f_handler = logging.FileHandler('file.log'):\n",
    "Crea un manejador (handler) que registra los mensajes en un archivo llamado file.log.\n",
    "\n",
    "- Cada mensaje de log que pase por este manejador se escribirá en ese archivo, lo que permite almacenar registros persistentes para análisis posterior.\n",
    "\n",
    "## LOGGING 3"
   ]
  },
  {
   "cell_type": "code",
   "execution_count": null,
   "id": "056297d5-249a-4411-a661-66e4e8de2380",
   "metadata": {},
   "outputs": [],
   "source": [
    "import logging\n",
    "\n",
    "logging.basicConfig(format='%(process)d-%(levelname)s-%(message)s')  \n",
    "logging.warning('This is a Warning')"
   ]
  },
  {
   "cell_type": "markdown",
   "id": "a0e090bb-cc2e-48ad-8bc5-6353e279a033",
   "metadata": {},
   "source": [
    "**1.** import logging:\n",
    "Importa el módulo logging para usar sus funciones.\n",
    "\n",
    "**2.** logging.basicConfig(...):\n",
    "Configura el formato de los mensajes.\n",
    "\n",
    "- format='%(process)d-%(levelname)s-%(message)s': Define el formato para incluir:\n",
    "    - process: El ID del proceso que genera el mensaje.\n",
    "    - levelname: El nivel del mensaje (por ejemplo, WARNING, ERROR).\n",
    "    - message: El contenido del mensaje de log.\n",
    "\n",
    "**3.** logging.warning('This is a Warning'):\n",
    "Registra un mensaje de nivel WARNING con el texto \"This is a Warning\". El mensaje tendrá este formato:\n",
    "\n",
    "[ID del proceso]-WARNING-This is a Warning"
   ]
  },
  {
   "cell_type": "markdown",
   "id": "14dd0ef3-1c2f-45a5-bd8c-f055d3256733",
   "metadata": {},
   "source": [
    "# **EJERCICIO 4**\n",
    "\n",
    "### A partir del següent codi creat amb JUPYTER explica resumidament el que fa cada BLOC. No cal explicar línia per línia, sinó que pot ser de forma general, però si amb certa coherència.\n",
    "\n",
    "**Taula d’exemple**\n",
    "\n",
    "|   Profesor  |      Alumno      |   M01   |   M02   |   M03   |   M04   |   M05   |\n",
    "|  :--------: |  :-----------:   |  :---:  |  :---:  |  :---:  |  :---:  |  :---:  |\n",
    "|    Emili    |      Xavier      |    8    |    6    |    7    |    9    |    4    |\n",
    "|    Isabel   |      Juan        |    6    |    4    |    5    |    7    |    5    |  \n",
    "|    Jose     |      Carlos      |    5    |    8    |    7    |    4    |    7    | \n",
    "|    Emili    |      Maradona    |    5    |    4    |    3    |    8    |    8    |  \n",
    "|    Isabel   |      Paquito     |    5    |    9    |    8    |    9    |    4    |  "
   ]
  },
  {
   "cell_type": "markdown",
   "id": "1a068c3f-924f-4362-8e30-593f9b2faad9",
   "metadata": {},
   "source": [
    "#### **Codi 1**"
   ]
  },
  {
   "cell_type": "code",
   "execution_count": null,
   "id": "ee9f76ed-6aad-4ce3-bb01-85c407606e5b",
   "metadata": {},
   "outputs": [],
   "source": [
    "notas[[\"MO1\", \"M02\", \"M03\", \"M04\", \"M05\"]].mean()"
   ]
  },
  {
   "cell_type": "markdown",
   "id": "9731bc18-701a-4460-8d9a-f8c9f95e1850",
   "metadata": {},
   "source": [
    "**Qué hace:**\n",
    "\n",
    "Calcula la media de las notas por módulo (M01, M02, etc.) considerando todas las filas de la tabla. El resultado es un promedio general por módulo, útil para analizar el rendimiento global en cada asignatura."
   ]
  },
  {
   "cell_type": "markdown",
   "id": "4825cd67-360e-4d8b-90d7-318b8efcc709",
   "metadata": {},
   "source": [
    "#### **Codi 2**"
   ]
  },
  {
   "cell_type": "code",
   "execution_count": null,
   "id": "deadb1e8-502e-4726-9e4e-e5a5b176b803",
   "metadata": {},
   "outputs": [],
   "source": [
    "notas.grupby('Alumno', as_index=False)[\"MO1\", \"M02\", \"M03\", \"M04\", \"M05\"].mean()"
   ]
  },
  {
   "cell_type": "markdown",
   "id": "f8cf0fd9-b487-4f6b-8344-7f1cb52ed8b1",
   "metadata": {},
   "source": [
    "**Qué hace:**\n",
    "\n",
    "Agrupa los datos por el nombre del alumno y calcula la media de las notas en cada módulo para cada estudiante. El resultado muestra el promedio de cada alumno en las diferentes asignaturas."
   ]
  },
  {
   "cell_type": "markdown",
   "id": "2f480d7a-fe2e-4085-bc7d-599049ec90b4",
   "metadata": {},
   "source": [
    "#### **Codi 3**"
   ]
  },
  {
   "cell_type": "code",
   "execution_count": null,
   "id": "bde13f09-a90f-476a-aa2e-c51b6cbbe8f3",
   "metadata": {},
   "outputs": [],
   "source": [
    "notas.plot(x=\"Alumno\", y=[\"M01\", \"M02\"])\n",
    "plt.rcParams[\"figure.figsize\"] = (10,5)\n",
    "plt.show()"
   ]
  },
  {
   "cell_type": "markdown",
   "id": "4c4682d7-c9de-4be9-859c-9cc11a681f63",
   "metadata": {},
   "source": [
    "**Qué hace:**\n",
    "\n",
    "Genera un gráfico de líneas donde el eje X corresponde a los nombres de los alumnos y el eje Y muestra las notas de los módulos M01 y M02.\n",
    "\n",
    "- La línea permite comparar visualmente las notas de esos módulos entre los diferentes estudiantes.\n",
    "  \n",
    "- plt.rcParams[\"figure.figsize\"] = (10,5) ajusta el tamaño de la figura a 10x5.\n"
   ]
  },
  {
   "cell_type": "markdown",
   "id": "d73cca05-2052-40c9-9b1e-1d47235beccd",
   "metadata": {},
   "source": [
    "#### **Codi 4**"
   ]
  },
  {
   "cell_type": "code",
   "execution_count": null,
   "id": "922947db-6f6e-465d-988f-3ad0d3031b41",
   "metadata": {},
   "outputs": [],
   "source": [
    "notas[[\"MO1\", \"M02\", \"M03\", \"M04\", \"M05\"]].mean(axis = 1)"
   ]
  },
  {
   "cell_type": "markdown",
   "id": "2056a042-c960-4fac-8d61-1bd4276ba0f2",
   "metadata": {},
   "source": [
    "**Qué hace:**\n",
    "\n",
    "Calcula la media de notas por alumno, considerando todas las asignaturas (M01, M02, etc.).\n",
    "\n",
    "- axis=1 indica que el cálculo se realiza fila por fila, obteniendo un promedio por estudiante.\n",
    "  El resultado es un nuevo array con las medias individuales."
   ]
  },
  {
   "cell_type": "markdown",
   "id": "f4a2993f-b7c0-4ca0-86b5-cb53a7cb3236",
   "metadata": {},
   "source": [
    "#### **Codi 5**"
   ]
  },
  {
   "cell_type": "code",
   "execution_count": null,
   "id": "4da71fc5-14b3-4255-a12f-29873c5169bb",
   "metadata": {},
   "outputs": [],
   "source": [
    "x_values=notas[\"Alumno\"]\n",
    "y_values=notas[\"M02\"]\n",
    "plt.plot(x_values, y_values, color='red')\n",
    "plt.legend([\"M02\"])\n",
    "plt.show"
   ]
  },
  {
   "cell_type": "markdown",
   "id": "d35b16b7-5ad8-426c-9693-d16a0b73b8f6",
   "metadata": {},
   "source": [
    "**Qué hace:**\n",
    "\n",
    "Genera un gráfico de líneas donde:\n",
    "\n",
    "- El eje X representa los nombres de los alumnos.\n",
    "- El eje Y muestra las notas del módulo M02.\n",
    "- color='red' dibuja la línea en color rojo.\n",
    "- plt.legend([\"M02\"]) añade una leyenda indicando que la línea corresponde a las notas del módulo M02.\n",
    "\n",
    "Esto permite visualizar el rendimiento de los estudiantes en la asignatura M02."
   ]
  },
  {
   "cell_type": "code",
   "execution_count": null,
   "id": "b764db39-c640-4adb-bc38-cbfd2699a8ac",
   "metadata": {},
   "outputs": [],
   "source": []
  }
 ],
 "metadata": {
  "kernelspec": {
   "display_name": "Python 3 (ipykernel)",
   "language": "python",
   "name": "python3"
  },
  "language_info": {
   "codemirror_mode": {
    "name": "ipython",
    "version": 3
   },
   "file_extension": ".py",
   "mimetype": "text/x-python",
   "name": "python",
   "nbconvert_exporter": "python",
   "pygments_lexer": "ipython3",
   "version": "3.12.1"
  }
 },
 "nbformat": 4,
 "nbformat_minor": 5
}
