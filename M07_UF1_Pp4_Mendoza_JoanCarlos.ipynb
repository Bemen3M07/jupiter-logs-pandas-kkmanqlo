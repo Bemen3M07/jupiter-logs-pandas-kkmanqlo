{
 "cells": [
  {
   "cell_type": "markdown",
   "id": "94ba6e6c-67d7-4227-8861-e2f6024c4b34",
   "metadata": {},
   "source": [
    "EJERCICIO 1\n",
    "\n",
    "1- Con tus propias palabras, ¿podrías explicar que es?\n",
    "\n",
    "a. Jupyter: Jupyter es una herramienta que permite crear y compartir documentos interactivos que incluyen código, texto, gráficos y más. Es muy útil en programación, análisis de datos y ciencia de datos, ya que permite ejecutar fragmentos de código y ver los resultados de inmediato.\n",
    "\n",
    "b. Anaconda: Anaconda es una distribución de Python y R que incluye herramientas y paquetes preinstalados para trabajos de ciencia de datos, aprendizaje automático y computación científica. Ofrece el gestor de paquetes conda y herramientas como Jupyter y Spyder, lo que facilita la gestión de entornos y dependencias.\n",
    "\n",
    "c. Paquete logging: El paquete logging de Python se utiliza para generar registros (logs) de eventos en una aplicación. Es útil para monitorear el funcionamiento del código, detectar errores y registrar información relevante durante la ejecución del programa."
   ]
  },
  {
   "cell_type": "markdown",
   "id": "bc3c259a-4834-4370-a4cb-70cf684a5cda",
   "metadata": {},
   "source": [
    "EJERCICIO 2\n",
    "\n",
    "2- ¿Por qué crees que es necesario implementar un log en un programa? Razona la respuesta y mete ejemplos del porqué lo crees (mínimo 3 ejemplos).\n",
    "\n",
    "Implementar un sistema de registro (log) en un programa es fundamental por varias razones, ya que permite supervisar, analizar y depurar el comportamiento de la aplicación. Aquí tienes la explicación y algunos ejemplos:\n",
    "\n",
    "Razones para implementar un log:\n",
    "\n",
    "1. Diagnóstico y depuración:\n",
    "Los logs ayudan a identificar errores y problemas en tiempo de ejecución sin necesidad de interactuar directamente con el programa. Por ejemplo, si un sistema de reservas online falla al confirmar un pago, un log puede mostrar si el error ocurrió al conectarse con la pasarela de pagos o al escribir en la base de datos.\n",
    "\n",
    "2. Seguimiento de actividades:\n",
    "Permiten registrar qué acciones realiza el usuario o el sistema, lo que es útil para auditorías o para entender el flujo del programa. Por ejemplo, en una aplicación bancaria, un log puede registrar cuándo un usuario inicia sesión o realiza una transferencia.\n",
    "\n",
    "3. Monitoreo en tiempo real:\n",
    "En aplicaciones en producción, los logs permiten supervisar el funcionamiento general del sistema para detectar anomalías o comportamientos inusuales. Por ejemplo, en un servidor web, los logs pueden alertar de picos anormales de tráfico que indiquen un posible ataque DDoS."
   ]
  },
  {
   "cell_type": "markdown",
   "id": "3df7043d-d232-4f0c-9370-df72b2ad131a",
   "metadata": {},
   "source": [
    "EJERCICIO 3\n",
    "\n",
    "3- Con tus palabras explica que significa cada línea de los siguientes ejemplos de logging. HAY QUE EXPLICAR LINEA EN LINEA\n",
    "\n",
    "LOGGING 1\n",
    "\n",
    "logging.basicConfig(format='%(asctime)s - %(message)s', level=logging.INFO)  \n",
    "logging.info('Admin ha accedido')  \n",
    "\n",
    "1. logging.basicConfig(...):\n",
    "Configura el formato y nivel de los mensajes de log.\n",
    "\n",
    "- format='%(asctime)s - %(message)s': Define cómo   se mostrarán los mensajes de log. En este caso, incluye la fecha y hora del evento (asctime) seguida del mensaje del log (message).\n",
    "\n",
    "- level=logging.INFO: Establece el nivel mínimo para registrar mensajes. Aquí, solo se registrarán mensajes de nivel INFO o superior (por ejemplo, WARNING o ERROR).\n",
    "\n",
    "2. logging.info('Admin ha accedido'):\n",
    "\n",
    "Registra un mensaje de nivel INFO. El mensaje será:\n",
    "\n",
    "[fecha y hora] - Admin ha accedido\n",
    "\n",
    "LOGGING 2\n",
    "\n",
    "f_handler = logging.FileHandler('file.log')  \n",
    "\n",
    "1. f_handler = logging.FileHandler('file.log'):\n",
    "Crea un manejador (handler) que registra los mensajes en un archivo llamado file.log.\n",
    "\n",
    "- Cada mensaje de log que pase por este manejador se escribirá en ese archivo, lo que permite almacenar registros persistentes para análisis posterior.\n",
    "\n",
    "LOGGING 3\n",
    "\n",
    "import logging  \n",
    "\n",
    "logging.basicConfig(format='%(process)d-%(levelname)s-%(message)s')  \n",
    "logging.warning('This is a Warning')  \n",
    "\n",
    "1. import logging:\n",
    "Importa el módulo logging para usar sus funciones.\n",
    "\n",
    "2. logging.basicConfig(...):\n",
    "Configura el formato de los mensajes.\n",
    "\n",
    " - format='%(process)d-%(levelname)s-%(message)s':\n",
    "   Define el formato para incluir:\n",
    "   \n",
    "    - process: El ID del proceso que genera el mensaje.\n",
    "    - levelname: El nivel del mensaje (por ejemplo, WARNING, ERROR).\n",
    "    - message: El contenido del mensaje de log.\n",
    "     \n",
    "3. logging.warning('This is a Warning'):\n",
    "Registra un mensaje de nivel WARNING con el texto \"This is a Warning\". El mensaje tendrá este formato:\n",
    "\n",
    "[ID del proceso]-WARNING-This is a Warning\n"
   ]
  }
 ],
 "metadata": {
  "kernelspec": {
   "display_name": "Python 3 (ipykernel)",
   "language": "python",
   "name": "python3"
  },
  "language_info": {
   "codemirror_mode": {
    "name": "ipython",
    "version": 3
   },
   "file_extension": ".py",
   "mimetype": "text/x-python",
   "name": "python",
   "nbconvert_exporter": "python",
   "pygments_lexer": "ipython3",
   "version": "3.12.1"
  }
 },
 "nbformat": 4,
 "nbformat_minor": 5
}
