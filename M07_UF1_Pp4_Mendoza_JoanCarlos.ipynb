{
 "cells": [
  {
   "cell_type": "markdown",
   "id": "94ba6e6c-67d7-4227-8861-e2f6024c4b34",
   "metadata": {},
   "source": [
    "Ejercicio 1\n",
    "\n",
    "1- Con tus propias palabras, ¿podrías explicar que es?\n",
    "\n",
    "a. Jupyter: Jupyter es una herramienta que permite crear y compartir documentos interactivos que incluyen código, texto, gráficos y más. Es muy útil en programación, análisis de datos y ciencia de datos, ya que permite ejecutar fragmentos de código y ver los resultados de inmediato.\n",
    "\n",
    "b. Anaconda: Anaconda es una distribución de Python y R que incluye herramientas y paquetes preinstalados para trabajos de ciencia de datos, aprendizaje automático y computación científica. Ofrece el gestor de paquetes conda y herramientas como Jupyter y Spyder, lo que facilita la gestión de entornos y dependencias.\n",
    "\n",
    "c. Paquete logging: El paquete logging de Python se utiliza para generar registros (logs) de eventos en una aplicación. Es útil para monitorear el funcionamiento del código, detectar errores y registrar información relevante durante la ejecución del programa."
   ]
  },
  {
   "cell_type": "markdown",
   "id": "bc3c259a-4834-4370-a4cb-70cf684a5cda",
   "metadata": {},
   "source": [
    "Ejercicio 2\n",
    "\n",
    "2- ¿Por qué crees que es necesario implementar un log en un programa? Razona la respuesta y mete ejemplos del porqué lo crees (mínimo 3 ejemplos).\n",
    "\n",
    "Implementar un sistema de registro (log) en un programa es fundamental por varias razones, ya que permite supervisar, analizar y depurar el comportamiento de la aplicación. Aquí tienes la explicación y algunos ejemplos:\n",
    "\n",
    "Razones para implementar un log:\n",
    "\n",
    "1. Diagnóstico y depuración:\n",
    "Los logs ayudan a identificar errores y problemas en tiempo de ejecución sin necesidad de interactuar directamente con el programa. Por ejemplo, si un sistema de reservas online falla al confirmar un pago, un log puede mostrar si el error ocurrió al conectarse con la pasarela de pagos o al escribir en la base de datos.\n",
    "\n",
    "2. Seguimiento de actividades:\n",
    "Permiten registrar qué acciones realiza el usuario o el sistema, lo que es útil para auditorías o para entender el flujo del programa. Por ejemplo, en una aplicación bancaria, un log puede registrar cuándo un usuario inicia sesión o realiza una transferencia.\n",
    "\n",
    "3. Monitoreo en tiempo real:\n",
    "En aplicaciones en producción, los logs permiten supervisar el funcionamiento general del sistema para detectar anomalías o comportamientos inusuales. Por ejemplo, en un servidor web, los logs pueden alertar de picos anormales de tráfico que indiquen un posible ataque DDoS."
   ]
  },
  {
   "cell_type": "code",
   "execution_count": null,
   "id": "7c9f81b4-5f1f-43f3-9648-82c47b77ff4c",
   "metadata": {},
   "outputs": [],
   "source": []
  }
 ],
 "metadata": {
  "kernelspec": {
   "display_name": "Python 3 (ipykernel)",
   "language": "python",
   "name": "python3"
  },
  "language_info": {
   "codemirror_mode": {
    "name": "ipython",
    "version": 3
   },
   "file_extension": ".py",
   "mimetype": "text/x-python",
   "name": "python",
   "nbconvert_exporter": "python",
   "pygments_lexer": "ipython3",
   "version": "3.12.1"
  }
 },
 "nbformat": 4,
 "nbformat_minor": 5
}
